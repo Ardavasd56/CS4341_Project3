{
 "cells": [
  {
   "cell_type": "code",
   "execution_count": 1,
   "source": [
    "from tensorflow import keras\n",
    "from tensorflow.keras.models import Sequential\n",
    "from tensorflow.keras.layers import Dense, Activation\n",
    "import numpy as np\n",
    "np.set_printoptions(threshold=10000)\n",
    "from sklearn.model_selection import train_test_split\n",
    "import random\n",
    "from keras import utils as np_utils\n",
    "import tensorflow as tf\n",
    "\n"
   ],
   "outputs": [],
   "metadata": {}
  },
  {
   "cell_type": "code",
   "execution_count": 2,
   "source": [
    "images  = np.load('./images.npy')\n",
    "labels  = np.load('./labels.npy')"
   ],
   "outputs": [],
   "metadata": {}
  },
  {
   "cell_type": "code",
   "execution_count": 3,
   "source": [
    "seed = 42\n",
    "np.random.seed(seed)"
   ],
   "outputs": [],
   "metadata": {}
  },
  {
   "cell_type": "code",
   "execution_count": 4,
   "source": [
    "print(images.shape)\n",
    "print(labels.shape)"
   ],
   "outputs": [
    {
     "output_type": "stream",
     "name": "stdout",
     "text": [
      "(6500, 784)\n",
      "(6500,)\n"
     ]
    }
   ],
   "metadata": {}
  },
  {
   "cell_type": "code",
   "execution_count": 5,
   "source": [
    "labels = tf.keras.utils.to_categorical(labels)"
   ],
   "outputs": [],
   "metadata": {}
  },
  {
   "cell_type": "code",
   "execution_count": 6,
   "source": [
    "labels.shape"
   ],
   "outputs": [
    {
     "output_type": "execute_result",
     "data": {
      "text/plain": [
       "(6500, 10)"
      ]
     },
     "metadata": {},
     "execution_count": 6
    }
   ],
   "metadata": {}
  },
  {
   "cell_type": "markdown",
   "source": [
    "## Model Spplitting (Train, Validation, Test)"
   ],
   "metadata": {}
  },
  {
   "cell_type": "code",
   "execution_count": 20,
   "source": [
    "# training = 60%, validation = 15%, testing = 25%"
   ],
   "outputs": [],
   "metadata": {}
  },
  {
   "cell_type": "code",
   "execution_count": 7,
   "source": [
    "x_train, x_test, y_train, y_test = train_test_split(images, labels, test_size=0.40, random_state=42)\n",
    "x_test, x_validation, y_test, y_validation = train_test_split(x_test, y_test, test_size=0.375, random_state=42)\n",
    "print(x_train.shape)\n",
    "print(x_validation.shape)\n",
    "print(x_test.shape)"
   ],
   "outputs": [
    {
     "output_type": "stream",
     "name": "stdout",
     "text": [
      "(3900, 784)\n",
      "(975, 784)\n",
      "(1625, 784)\n"
     ]
    }
   ],
   "metadata": {}
  },
  {
   "cell_type": "markdown",
   "source": [
    "## Model Selection"
   ],
   "metadata": {}
  },
  {
   "cell_type": "code",
   "execution_count": 8,
   "source": [
    "# Documentation: https://www.tensorflow.org/api_docs/python/tf/keras/Sequential\n",
    "model = Sequential() # declare model\n",
    "model.add(Dense(10, input_shape=(28*28, ), kernel_initializer='he_normal')) # first layer\n",
    "model.add(Activation('relu'))"
   ],
   "outputs": [
    {
     "output_type": "stream",
     "name": "stderr",
     "text": [
      "2021-10-07 22:25:18.555250: I tensorflow/core/platform/cpu_feature_guard.cc:142] This TensorFlow binary is optimized with oneAPI Deep Neural Network Library (oneDNN) to use the following CPU instructions in performance-critical operations:  AVX2 FMA\n",
      "To enable them in other operations, rebuild TensorFlow with the appropriate compiler flags.\n"
     ]
    }
   ],
   "metadata": {}
  },
  {
   "cell_type": "code",
   "execution_count": 23,
   "source": [
    "#\n",
    "#\n",
    "#\n",
    "## Fill Model here\n",
    "#\n",
    "#\n",
    "#"
   ],
   "outputs": [],
   "metadata": {}
  },
  {
   "cell_type": "code",
   "execution_count": 9,
   "source": [
    "model.add(Dense(10, kernel_initializer='he_normal')) # last layer\n",
    "model.add(Activation('softmax'))"
   ],
   "outputs": [],
   "metadata": {}
  },
  {
   "cell_type": "code",
   "execution_count": 10,
   "source": [
    "# Compile Model\n",
    "model.compile(optimizer='sgd',\n",
    "              loss='categorical_crossentropy', \n",
    "              metrics=['accuracy'])"
   ],
   "outputs": [],
   "metadata": {}
  },
  {
   "cell_type": "code",
   "execution_count": 11,
   "source": [
    "# Train Model\n",
    "history = model.fit(x_train, y_train, \n",
    "                    validation_data = (x_validation, y_validation), \n",
    "                    epochs=10, \n",
    "                    batch_size=512)"
   ],
   "outputs": [
    {
     "output_type": "stream",
     "name": "stderr",
     "text": [
      "2021-10-07 22:28:03.983271: I tensorflow/compiler/mlir/mlir_graph_optimization_pass.cc:185] None of the MLIR Optimization Passes are enabled (registered 2)\n"
     ]
    },
    {
     "output_type": "stream",
     "name": "stdout",
     "text": [
      "Epoch 1/10\n",
      "8/8 [==============================] - 1s 22ms/step - loss: 99.0207 - accuracy: 0.0933 - val_loss: 2.3058 - val_accuracy: 0.0933\n",
      "Epoch 2/10\n",
      "8/8 [==============================] - 0s 4ms/step - loss: 2.3026 - accuracy: 0.0967 - val_loss: 2.3058 - val_accuracy: 0.0933\n",
      "Epoch 3/10\n",
      "8/8 [==============================] - 0s 5ms/step - loss: 2.3026 - accuracy: 0.1041 - val_loss: 2.3058 - val_accuracy: 0.0933\n",
      "Epoch 4/10\n",
      "8/8 [==============================] - 0s 6ms/step - loss: 2.3026 - accuracy: 0.0992 - val_loss: 2.3058 - val_accuracy: 0.0933\n",
      "Epoch 5/10\n",
      "8/8 [==============================] - 0s 5ms/step - loss: 2.3026 - accuracy: 0.1041 - val_loss: 2.3058 - val_accuracy: 0.0933\n",
      "Epoch 6/10\n",
      "8/8 [==============================] - 0s 4ms/step - loss: 2.3026 - accuracy: 0.1041 - val_loss: 2.3059 - val_accuracy: 0.0933\n",
      "Epoch 7/10\n",
      "8/8 [==============================] - 0s 4ms/step - loss: 2.3025 - accuracy: 0.1041 - val_loss: 2.3059 - val_accuracy: 0.0933\n",
      "Epoch 8/10\n",
      "8/8 [==============================] - 0s 4ms/step - loss: 2.3025 - accuracy: 0.1041 - val_loss: 2.3059 - val_accuracy: 0.0933\n",
      "Epoch 9/10\n",
      "8/8 [==============================] - 0s 4ms/step - loss: 2.3025 - accuracy: 0.1041 - val_loss: 2.3059 - val_accuracy: 0.0933\n",
      "Epoch 10/10\n",
      "8/8 [==============================] - 0s 4ms/step - loss: 2.3025 - accuracy: 0.1041 - val_loss: 2.3059 - val_accuracy: 0.0933\n"
     ]
    }
   ],
   "metadata": {}
  },
  {
   "cell_type": "code",
   "execution_count": 13,
   "source": [
    "# Report Results\n",
    "\n",
    "print(history.history)\n",
    "model.predict(x_test)"
   ],
   "outputs": [
    {
     "output_type": "stream",
     "name": "stdout",
     "text": [
      "{'loss': [99.02066802978516, 2.30259108543396, 2.3025805950164795, 2.3025729656219482, 2.3025643825531006, 2.3025546073913574, 2.3025457859039307, 2.3025388717651367, 2.3025295734405518, 2.3025174140930176], 'accuracy': [0.09333333373069763, 0.09666666388511658, 0.10410256683826447, 0.09923076629638672, 0.10410256683826447, 0.10410256683826447, 0.10410256683826447, 0.10410256683826447, 0.10410256683826447, 0.10410256683826447], 'val_loss': [2.305783271789551, 2.3057992458343506, 2.305816888809204, 2.305832624435425, 2.305849075317383, 2.305863857269287, 2.305877923965454, 2.305896759033203, 2.3059115409851074, 2.30592679977417], 'val_accuracy': [0.09333333373069763, 0.09333333373069763, 0.09333333373069763, 0.09333333373069763, 0.09333333373069763, 0.09333333373069763, 0.09333333373069763, 0.09333333373069763, 0.09333333373069763, 0.09333333373069763]}\n"
     ]
    },
    {
     "output_type": "execute_result",
     "data": {
      "text/plain": [
       "array([[0.0994886 , 0.10025769, 0.09896909, ..., 0.10031736, 0.10014847,\n",
       "        0.10004207],\n",
       "       [0.0994886 , 0.10025769, 0.09896909, ..., 0.10031736, 0.10014847,\n",
       "        0.10004207],\n",
       "       [0.0994886 , 0.10025769, 0.09896909, ..., 0.10031736, 0.10014847,\n",
       "        0.10004207],\n",
       "       ...,\n",
       "       [0.0994886 , 0.10025769, 0.09896909, ..., 0.10031736, 0.10014847,\n",
       "        0.10004207],\n",
       "       [0.0994886 , 0.10025769, 0.09896909, ..., 0.10031736, 0.10014847,\n",
       "        0.10004207],\n",
       "       [0.0994886 , 0.10025769, 0.09896909, ..., 0.10031736, 0.10014848,\n",
       "        0.10004207]], dtype=float32)"
      ]
     },
     "metadata": {},
     "execution_count": 13
    }
   ],
   "metadata": {}
  }
 ],
 "metadata": {
  "kernelspec": {
   "name": "python3",
   "display_name": "Python 3.9.4 64-bit"
  },
  "language_info": {
   "codemirror_mode": {
    "name": "ipython",
    "version": 3
   },
   "file_extension": ".py",
   "mimetype": "text/x-python",
   "name": "python",
   "nbconvert_exporter": "python",
   "pygments_lexer": "ipython3",
   "version": "3.9.4"
  },
  "interpreter": {
   "hash": "aee8b7b246df8f9039afb4144a1f6fd8d2ca17a180786b69acc140d282b71a49"
  }
 },
 "nbformat": 4,
 "nbformat_minor": 4
}