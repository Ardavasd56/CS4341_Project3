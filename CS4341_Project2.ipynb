{
 "cells": [
  {
   "cell_type": "code",
   "execution_count": 316,
   "metadata": {},
   "outputs": [],
   "source": [
    "from tensorflow import keras\n",
    "from tensorflow.keras.models import Sequential\n",
    "from tensorflow.keras.layers import Dense, Activation\n",
    "import numpy as np\n",
    "np.set_printoptions(threshold=10000)\n",
    "from sklearn.model_selection import train_test_split\n",
    "from keras import utils as np_utils\n",
    "import tensorflow as tf\n",
    "import pandas as pd\n",
    "import matplotlib as mpl\n",
    "import matplotlib.pyplot as plt\n",
    "\n"
   ]
  },
  {
   "cell_type": "code",
   "execution_count": 317,
   "metadata": {},
   "outputs": [],
   "source": [
    "images  = np.load('./images.npy')\n",
    "labels  = np.load('./labels.npy')"
   ]
  },
  {
   "cell_type": "code",
   "execution_count": 318,
   "metadata": {},
   "outputs": [],
   "source": [
    "seed = 42\n",
    "np.random.seed(seed)"
   ]
  },
  {
   "cell_type": "code",
   "execution_count": 319,
   "metadata": {},
   "outputs": [
    {
     "name": "stdout",
     "output_type": "stream",
     "text": [
      "(6500, 784)\n",
      "(6500,)\n"
     ]
    }
   ],
   "source": [
    "print(images.shape)\n",
    "print(labels.shape)"
   ]
  },
  {
   "cell_type": "code",
   "execution_count": 320,
   "metadata": {},
   "outputs": [],
   "source": [
    "labels = tf.keras.utils.to_categorical(labels)"
   ]
  },
  {
   "cell_type": "code",
   "execution_count": 321,
   "metadata": {},
   "outputs": [
    {
     "data": {
      "text/plain": [
       "(6500, 10)"
      ]
     },
     "execution_count": 321,
     "metadata": {},
     "output_type": "execute_result"
    }
   ],
   "source": [
    "labels.shape"
   ]
  },
  {
   "cell_type": "markdown",
   "metadata": {},
   "source": [
    "## Model Spplitting (Train, Validation, Test)"
   ]
  },
  {
   "cell_type": "code",
   "execution_count": 322,
   "metadata": {},
   "outputs": [],
   "source": [
    "# training = 60%, validation = 15%, testing = 25%"
   ]
  },
  {
   "cell_type": "code",
   "execution_count": 323,
   "metadata": {},
   "outputs": [
    {
     "name": "stdout",
     "output_type": "stream",
     "text": [
      "(3900, 784)\n",
      "(975, 784)\n",
      "(1625, 784)\n"
     ]
    }
   ],
   "source": [
    "x_train, x_test, y_train, y_test = train_test_split(images, labels, test_size=0.40, random_state=42, stratify=labels)\n",
    "x_test, x_validation, y_test, y_validation = train_test_split(x_test, y_test, test_size=0.375, random_state=42, stratify=y_test)\n",
    "print(x_train.shape)\n",
    "print(x_validation.shape)\n",
    "print(x_test.shape)"
   ]
  },
  {
   "cell_type": "markdown",
   "metadata": {},
   "source": [
    "## Model Selection"
   ]
  },
  {
   "cell_type": "code",
   "execution_count": 324,
   "metadata": {},
   "outputs": [],
   "source": [
    "# Documentation: https://www.tensorflow.org/api_docs/python/tf/keras/Sequential\n",
    "model = Sequential() # declare model\n",
    "model.add(Dense(10, input_shape=(28*28, ), kernel_initializer='he_normal')) # first layer\n",
    "model.add(Activation('relu'))"
   ]
  },
  {
   "cell_type": "code",
   "execution_count": 325,
   "metadata": {},
   "outputs": [],
   "source": [
    "# Our Model\n",
    "model.add(Dense(100, kernel_initializer='random_uniform')) # third layer\n",
    "model.add(Activation('relu'))\n",
    "model.add(Dense(100, kernel_initializer='random_normal')) # second layer\n",
    "model.add(Activation('relu'))\n",
    "model.add(Dense(100, kernel_initializer='random_uniform')) # third layer\n",
    "model.add(Activation('relu'))\n",
    "model.add(Dense(100, kernel_initializer='random_normal')) # second layer\n",
    "model.add(Activation('relu'))\n",
    "model.add(Dense(100, kernel_initializer='random_uniform')) # third layer\n",
    "model.add(Activation('relu'))\n",
    "model.add(Dense(100, kernel_initializer='random_normal')) # second layer\n",
    "model.add(Activation('relu'))\n",
    "# model.add(Dense(50, kernel_initializer='random_uniform')) # fourth layer\n",
    "# model.add(Activation('tanh'))"
   ]
  },
  {
   "cell_type": "code",
   "execution_count": 326,
   "metadata": {},
   "outputs": [],
   "source": [
    "model.add(Dense(10, kernel_initializer='he_normal')) # last layer\n",
    "model.add(Activation('softmax'))"
   ]
  },
  {
   "cell_type": "code",
   "execution_count": 327,
   "metadata": {},
   "outputs": [],
   "source": [
    "# Compile Model\n",
    "model.compile(optimizer='sgd',\n",
    "              loss='categorical_crossentropy', \n",
    "              metrics=['accuracy'])"
   ]
  },
  {
   "cell_type": "code",
   "execution_count": 328,
   "metadata": {},
   "outputs": [
    {
     "name": "stdout",
     "output_type": "stream",
     "text": [
      "Epoch 1/50\n",
      "122/122 [==============================] - 1s 4ms/step - loss: 2.2970 - accuracy: 0.1877 - val_loss: 2.2873 - val_accuracy: 0.2308\n",
      "Epoch 2/50\n",
      "122/122 [==============================] - 0s 2ms/step - loss: 2.2074 - accuracy: 0.2387 - val_loss: 1.9418 - val_accuracy: 0.2851\n",
      "Epoch 3/50\n",
      "122/122 [==============================] - 0s 2ms/step - loss: 1.5647 - accuracy: 0.3738 - val_loss: 1.4956 - val_accuracy: 0.3303\n",
      "Epoch 4/50\n",
      "122/122 [==============================] - 0s 2ms/step - loss: 1.1540 - accuracy: 0.5033 - val_loss: 1.1279 - val_accuracy: 0.5405\n",
      "Epoch 5/50\n",
      "122/122 [==============================] - 0s 2ms/step - loss: 0.9778 - accuracy: 0.5938 - val_loss: 0.8924 - val_accuracy: 0.6092\n",
      "Epoch 6/50\n",
      "122/122 [==============================] - 0s 2ms/step - loss: 0.9391 - accuracy: 0.6118 - val_loss: 0.8198 - val_accuracy: 0.6308\n",
      "Epoch 7/50\n",
      "122/122 [==============================] - 0s 2ms/step - loss: 0.8368 - accuracy: 0.6505 - val_loss: 0.7850 - val_accuracy: 0.6728\n",
      "Epoch 8/50\n",
      "122/122 [==============================] - 0s 2ms/step - loss: 0.7925 - accuracy: 0.6769 - val_loss: 0.7410 - val_accuracy: 0.6913\n",
      "Epoch 9/50\n",
      "122/122 [==============================] - 0s 2ms/step - loss: 0.7490 - accuracy: 0.7000 - val_loss: 0.7527 - val_accuracy: 0.6995\n",
      "Epoch 10/50\n",
      "122/122 [==============================] - 0s 2ms/step - loss: 0.7207 - accuracy: 0.7095 - val_loss: 0.8208 - val_accuracy: 0.7015\n",
      "Epoch 11/50\n",
      "122/122 [==============================] - 0s 1ms/step - loss: 0.6853 - accuracy: 0.7336 - val_loss: 0.7194 - val_accuracy: 0.7241\n",
      "Epoch 12/50\n",
      "122/122 [==============================] - 0s 1ms/step - loss: 0.6669 - accuracy: 0.7479 - val_loss: 0.6981 - val_accuracy: 0.7426\n",
      "Epoch 13/50\n",
      "122/122 [==============================] - 0s 2ms/step - loss: 0.6398 - accuracy: 0.7554 - val_loss: 0.7034 - val_accuracy: 0.7538\n",
      "Epoch 14/50\n",
      "122/122 [==============================] - 0s 2ms/step - loss: 0.6128 - accuracy: 0.7715 - val_loss: 0.7651 - val_accuracy: 0.6841\n",
      "Epoch 15/50\n",
      "122/122 [==============================] - 0s 1ms/step - loss: 0.6202 - accuracy: 0.7692 - val_loss: 0.6328 - val_accuracy: 0.7703\n",
      "Epoch 16/50\n",
      "122/122 [==============================] - 0s 2ms/step - loss: 0.5767 - accuracy: 0.7879 - val_loss: 0.6643 - val_accuracy: 0.7651\n",
      "Epoch 17/50\n",
      "122/122 [==============================] - 0s 2ms/step - loss: 0.5687 - accuracy: 0.7887 - val_loss: 0.6713 - val_accuracy: 0.7487\n",
      "Epoch 18/50\n",
      "122/122 [==============================] - 0s 1ms/step - loss: 0.5384 - accuracy: 0.7949 - val_loss: 0.6080 - val_accuracy: 0.7785\n",
      "Epoch 19/50\n",
      "122/122 [==============================] - 0s 1ms/step - loss: 0.5418 - accuracy: 0.8026 - val_loss: 0.6141 - val_accuracy: 0.7815\n",
      "Epoch 20/50\n",
      "122/122 [==============================] - 0s 1ms/step - loss: 0.5281 - accuracy: 0.8023 - val_loss: 0.7812 - val_accuracy: 0.7672\n",
      "Epoch 21/50\n",
      "122/122 [==============================] - 0s 1ms/step - loss: 0.5164 - accuracy: 0.8113 - val_loss: 0.6106 - val_accuracy: 0.7908\n",
      "Epoch 22/50\n",
      "122/122 [==============================] - 0s 1ms/step - loss: 0.4978 - accuracy: 0.8141 - val_loss: 0.6659 - val_accuracy: 0.7867\n",
      "Epoch 23/50\n",
      "122/122 [==============================] - 0s 2ms/step - loss: 0.5127 - accuracy: 0.8131 - val_loss: 0.6055 - val_accuracy: 0.7877\n",
      "Epoch 24/50\n",
      "122/122 [==============================] - 0s 2ms/step - loss: 0.4732 - accuracy: 0.8249 - val_loss: 0.6622 - val_accuracy: 0.7795\n",
      "Epoch 25/50\n",
      "122/122 [==============================] - 0s 1ms/step - loss: 0.4689 - accuracy: 0.8305 - val_loss: 0.6857 - val_accuracy: 0.7754\n",
      "Epoch 26/50\n",
      "122/122 [==============================] - 0s 1ms/step - loss: 0.4765 - accuracy: 0.8262 - val_loss: 0.5964 - val_accuracy: 0.8010\n",
      "Epoch 27/50\n",
      "122/122 [==============================] - 0s 1ms/step - loss: 0.4432 - accuracy: 0.8356 - val_loss: 0.6311 - val_accuracy: 0.7815\n",
      "Epoch 28/50\n",
      "122/122 [==============================] - 0s 2ms/step - loss: 0.4425 - accuracy: 0.8372 - val_loss: 0.5649 - val_accuracy: 0.8113\n",
      "Epoch 29/50\n",
      "122/122 [==============================] - 0s 1ms/step - loss: 0.4218 - accuracy: 0.8405 - val_loss: 0.6809 - val_accuracy: 0.7651\n",
      "Epoch 30/50\n",
      "122/122 [==============================] - 0s 1ms/step - loss: 0.4493 - accuracy: 0.8385 - val_loss: 0.6204 - val_accuracy: 0.8062\n",
      "Epoch 31/50\n",
      "122/122 [==============================] - 0s 1ms/step - loss: 0.4221 - accuracy: 0.8444 - val_loss: 0.6225 - val_accuracy: 0.8041\n",
      "Epoch 32/50\n",
      "122/122 [==============================] - 0s 1ms/step - loss: 0.4226 - accuracy: 0.8469 - val_loss: 0.5701 - val_accuracy: 0.8174\n",
      "Epoch 33/50\n",
      "122/122 [==============================] - 0s 1ms/step - loss: 0.4123 - accuracy: 0.8474 - val_loss: 0.6065 - val_accuracy: 0.8103\n",
      "Epoch 34/50\n",
      "122/122 [==============================] - 0s 1ms/step - loss: 0.4451 - accuracy: 0.8428 - val_loss: 0.5946 - val_accuracy: 0.8000\n",
      "Epoch 35/50\n",
      "122/122 [==============================] - 0s 1ms/step - loss: 0.3848 - accuracy: 0.8574 - val_loss: 0.5997 - val_accuracy: 0.8021\n",
      "Epoch 36/50\n",
      "122/122 [==============================] - 0s 1ms/step - loss: 0.3980 - accuracy: 0.8536 - val_loss: 0.6437 - val_accuracy: 0.7846\n",
      "Epoch 37/50\n",
      "122/122 [==============================] - 0s 1ms/step - loss: 0.4175 - accuracy: 0.8490 - val_loss: 0.6040 - val_accuracy: 0.8174\n",
      "Epoch 38/50\n",
      "122/122 [==============================] - 0s 1ms/step - loss: 0.3844 - accuracy: 0.8582 - val_loss: 0.5901 - val_accuracy: 0.8215\n",
      "Epoch 39/50\n",
      "122/122 [==============================] - 0s 1ms/step - loss: 0.3829 - accuracy: 0.8590 - val_loss: 0.6191 - val_accuracy: 0.8195\n",
      "Epoch 40/50\n",
      "122/122 [==============================] - 0s 2ms/step - loss: 0.3578 - accuracy: 0.8608 - val_loss: 0.6155 - val_accuracy: 0.8133\n",
      "Epoch 41/50\n",
      "122/122 [==============================] - 0s 2ms/step - loss: 0.3628 - accuracy: 0.8651 - val_loss: 0.5853 - val_accuracy: 0.8154\n",
      "Epoch 42/50\n",
      "122/122 [==============================] - 0s 1ms/step - loss: 0.4313 - accuracy: 0.8518 - val_loss: 0.6250 - val_accuracy: 0.8021\n",
      "Epoch 43/50\n",
      "122/122 [==============================] - 0s 2ms/step - loss: 0.3593 - accuracy: 0.8672 - val_loss: 0.5709 - val_accuracy: 0.8123\n",
      "Epoch 44/50\n",
      "122/122 [==============================] - 0s 2ms/step - loss: 0.3551 - accuracy: 0.8656 - val_loss: 0.6242 - val_accuracy: 0.8072\n",
      "Epoch 45/50\n",
      "122/122 [==============================] - 0s 1ms/step - loss: 0.3438 - accuracy: 0.8715 - val_loss: 0.6614 - val_accuracy: 0.8103\n",
      "Epoch 46/50\n",
      "122/122 [==============================] - 0s 2ms/step - loss: 0.3736 - accuracy: 0.8638 - val_loss: 0.5918 - val_accuracy: 0.8226\n",
      "Epoch 47/50\n",
      "122/122 [==============================] - 0s 1ms/step - loss: 0.3344 - accuracy: 0.8746 - val_loss: 0.6309 - val_accuracy: 0.8113\n",
      "Epoch 48/50\n",
      "122/122 [==============================] - 0s 1ms/step - loss: 0.4483 - accuracy: 0.8497 - val_loss: 0.6425 - val_accuracy: 0.8062\n",
      "Epoch 49/50\n",
      "122/122 [==============================] - 0s 2ms/step - loss: 0.3574 - accuracy: 0.8695 - val_loss: 0.6376 - val_accuracy: 0.8051\n",
      "Epoch 50/50\n",
      "122/122 [==============================] - 0s 2ms/step - loss: 0.3344 - accuracy: 0.8792 - val_loss: 0.6188 - val_accuracy: 0.8082\n"
     ]
    }
   ],
   "source": [
    "# Train Model\n",
    "history = model.fit(x_train, y_train, \n",
    "                    validation_data = (x_validation, y_validation), \n",
    "                    epochs=50, \n",
    "                    batch_size=32)"
   ]
  },
  {
   "cell_type": "code",
   "execution_count": 329,
   "metadata": {},
   "outputs": [],
   "source": [
    "# Report Results\n",
    "\n",
    "# print(history.history)\n",
    "prediction = model.predict(\n",
    "    x_test,\n",
    "    batch_size=None,\n",
    "    verbose=0,\n",
    "    steps=None,\n",
    "    callbacks=None,\n",
    "    max_queue_size=10,\n",
    "    workers=1,\n",
    "    use_multiprocessing=False,\n",
    "    )"
   ]
  },
  {
   "cell_type": "code",
   "execution_count": 330,
   "metadata": {},
   "outputs": [
    {
     "name": "stdout",
     "output_type": "stream",
     "text": [
      "1\n",
      "1\n"
     ]
    }
   ],
   "source": [
    "print(list(prediction[0]).index(prediction[0].max()))\n",
    "print(list(y_test[0]).index(1))\n",
    "\n",
    "    \n"
   ]
  },
  {
   "cell_type": "code",
   "execution_count": 331,
   "metadata": {},
   "outputs": [
    {
     "name": "stdout",
     "output_type": "stream",
     "text": [
      "[0.5655834078788757, 0.8110769391059875]\n",
      "Error: 18.89%\n",
      "Accuracy: 81.11%\n",
      "Predicted    0    1    2    3    4    5    6    7    8    9   All\n",
      "Actual                                                           \n",
      "0          142    0    5   14    2    0   17    0    0    0   180\n",
      "1            2  154    2    6    0    0    1    0    0    0   165\n",
      "2            3    1   94    1   34    1   25    0    2    1   162\n",
      "3            8    4    1  135    2    0    3    0    0    0   153\n",
      "4            0    1   13    5  139    0   14    0    0    0   172\n",
      "5            2    0    0    0    0  125    0   18    2   15   162\n",
      "6           28    1   14    4   14    1   86    0    3    0   151\n",
      "7            0    0    0    1    0    3    0  140    0   17   161\n",
      "8            1    0    0    0    0    7    4    0  140    1   153\n",
      "9            0    0    0    0    0    1    0    2    0  163   166\n",
      "All        186  161  129  166  191  138  150  160  147  197  1625\n"
     ]
    },
    {
     "data": {
      "image/png": "[encoded data removed]",
      "text/plain": [
       "<Figure size 288x288 with 2 Axes>"
      ]
     },
     "metadata": {
      "needs_background": "light"
     },
     "output_type": "display_data"
    }
   ],
   "source": [
    "scores = model.evaluate(x_test, y_test, verbose=0)\n",
    "print(scores)\n",
    "accuracy = scores[1] * 100\n",
    "error = 100 - scores[1] * 100\n",
    "print(\"Error: %.2f%%\" % error)\n",
    "print(\"Accuracy: %.2f%%\" % accuracy)\n",
    "\n",
    "projection, actual = [], []\n",
    "\n",
    "# Iterate through predictions, determining which value recieved the highest prediction and\n",
    "#   marking that value in a list (denoting our prediction)\n",
    "for p in prediction:\n",
    "\n",
    "    # Reset max value, index, and max index each iteration\n",
    "    maximum = float(0)\n",
    "    index, max_index = 0, -1\n",
    "\n",
    "    # Iterate through each set of preductions determining the highest predicted value\n",
    "    for n in p:\n",
    "        if float(n) > maximum:\n",
    "            maximum = float(n)\n",
    "            max_index = index\n",
    "        index += 1\n",
    "\n",
    "    # Mark our projection for this set in our list\n",
    "    projection.append(max_index)\n",
    "\n",
    "# Convert test set (actuals) back to standard numerical format\n",
    "for t in y_test:\n",
    "    actual.append(np.argmax(t))\n",
    "\n",
    "# Generate Confusion Matrix\n",
    "y_actual = pd.Series(actual, name='Actual')\n",
    "y_predict = pd.Series(projection, name='Predicted')\n",
    "confusion_matrix = pd.crosstab(y_actual, y_predict)\n",
    "\n",
    "# Generate normalized confusion matrix\n",
    "norm_confusion_matrix = confusion_matrix / confusion_matrix.sum(axis=1)\n",
    "\n",
    "# Generate full confusion matrix with totals\n",
    "full_confusion_matrix = pd.crosstab(y_actual, y_predict, rownames=['Actual'], colnames=['Predicted'], margins=True)\n",
    "\n",
    "# print(norm_confusion_matrix)\n",
    "print(full_confusion_matrix)\n",
    "\n",
    "# Pretty plot pretty please\n",
    "cmap = mpl.cm.get_cmap('Oranges')\n",
    "plt.matshow(confusion_matrix, cmap=cmap)\n",
    "plt.colorbar()\n",
    "tick_marks = np.arange(len(confusion_matrix.columns))\n",
    "plt.xticks(tick_marks, confusion_matrix.columns, rotation=45)\n",
    "plt.yticks(tick_marks, confusion_matrix.index)\n",
    "\n",
    "plt.ylabel(confusion_matrix.index.name)\n",
    "plt.xlabel(confusion_matrix.columns.name)\n",
    "\n",
    "plt.show()"
   ]
  }
 ],
 "metadata": {
  "interpreter": {
   "hash": "aee8b7b246df8f9039afb4144a1f6fd8d2ca17a180786b69acc140d282b71a49"
  },
  "kernelspec": {
   "display_name": "Python 3.9.4 64-bit",
   "name": "python3"
  },
  "language_info": {
   "codemirror_mode": {
    "name": "ipython",
    "version": 3
   },
   "file_extension": ".py",
   "mimetype": "text/x-python",
   "name": "python",
   "nbconvert_exporter": "python",
   "pygments_lexer": "ipython3",
   "version": "3.9.4"
  }
 },
 "nbformat": 4,
 "nbformat_minor": 4
}
