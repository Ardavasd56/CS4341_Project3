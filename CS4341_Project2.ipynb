{
 "cells": [
  {
   "cell_type": "code",
   "execution_count": 50,
   "metadata": {},
   "outputs": [],
   "source": [
    "import tensorflow as tf\n",
    "from keras.models import Sequential\n",
    "from keras.layers import Dense, Activation\n",
    "import numpy as np\n",
    "from sklearn.model_selection import train_test_split\n",
    "from sklearn.metrics import confusion_matrix\n",
    "from sklearn.linear_model import LogisticRegression\n",
    "import matplotlib as mpl\n",
    "import matplotlib.pyplot as plt\n",
    "import pandas as pd\n",
    "from tensorflow.keras.models import load_model\n",
    "import seaborn as sns"
   ]
  },
  {
   "cell_type": "code",
   "execution_count": 25,
   "metadata": {},
   "outputs": [],
   "source": [
    "images = np.load(\"./images.npy\")\n",
    "images = np.reshape(images, (len(images), 28 * 28))\n",
    "\n",
    "labels = np.load(\"./labels.npy\")"
   ]
  },
  {
   "cell_type": "code",
   "execution_count": 26,
   "metadata": {},
   "outputs": [],
   "source": [
    "seed = 42\n",
    "np.random.seed(seed)"
   ]
  },
  {
   "cell_type": "code",
   "execution_count": 27,
   "metadata": {},
   "outputs": [
    {
     "name": "stdout",
     "output_type": "stream",
     "text": [
      "(6500, 784)\n",
      "(6500,)\n"
     ]
    }
   ],
   "source": [
    "print(images.shape)\n",
    "print(labels.shape)"
   ]
  },
  {
   "cell_type": "code",
   "execution_count": 28,
   "metadata": {},
   "outputs": [],
   "source": [
    "labels = tf.keras.utils.to_categorical(labels)"
   ]
  },
  {
   "cell_type": "code",
   "execution_count": 29,
   "metadata": {},
   "outputs": [
    {
     "data": {
      "text/plain": [
       "(6500, 10)"
      ]
     },
     "execution_count": 29,
     "metadata": {},
     "output_type": "execute_result"
    }
   ],
   "source": [
    "labels.shape"
   ]
  },
  {
   "cell_type": "markdown",
   "metadata": {},
   "source": [
    "## Model Spplitting (Train, Validation, Test)"
   ]
  },
  {
   "cell_type": "code",
   "execution_count": 30,
   "metadata": {},
   "outputs": [],
   "source": [
    "# training = 60%, validation = 15%, testing = 25%"
   ]
  },
  {
   "cell_type": "code",
   "execution_count": 31,
   "metadata": {},
   "outputs": [
    {
     "name": "stdout",
     "output_type": "stream",
     "text": [
      "(3900, 784)\n",
      "(975, 784)\n",
      "(1625, 784)\n"
     ]
    }
   ],
   "source": [
    "x_train, x_test, y_train, y_test = train_test_split(\n",
    "    images, labels, test_size=0.40, random_state=seed, stratify=labels\n",
    ")\n",
    "x_test, x_validation, y_test, y_validation = train_test_split(\n",
    "    x_test, y_test, test_size=0.375, random_state=seed, stratify=y_test\n",
    ")\n",
    "print(x_train.shape)\n",
    "print(x_validation.shape)\n",
    "print(x_test.shape)"
   ]
  },
  {
   "cell_type": "markdown",
   "metadata": {},
   "source": [
    "## Model Selection"
   ]
  },
  {
   "cell_type": "code",
   "execution_count": 32,
   "metadata": {},
   "outputs": [],
   "source": [
    "# Documentation: https://www.tensorflow.org/api_docs/python/tf/keras/Sequential\n",
    "# model = Sequential() # declare model\n",
    "# model.add(Dense(10, input_shape=(28*28, ), kernel_initializer='he_normal')) # first layer\n",
    "# model.add(Activation('relu'))"
   ]
  },
  {
   "cell_type": "code",
   "execution_count": 33,
   "metadata": {},
   "outputs": [],
   "source": [
    "# Our Model\n",
    "# model.add(Dense(100, kernel_initializer='random_uniform')) # third layer\n",
    "# model.add(Activation('relu'))\n",
    "# model.add(Dense(100, kernel_initializer='random_normal')) # second layer\n",
    "# model.add(Activation('relu'))\n",
    "# model.add(Dense(100, kernel_initializer='random_uniform')) # third layer\n",
    "# model.add(Activation('relu'))\n",
    "# model.add(Dense(100, kernel_initializer='random_normal')) # second layer\n",
    "# model.add(Activation('relu'))\n",
    "# model.add(Dense(100, kernel_initializer='random_uniform')) # third layer\n",
    "# model.add(Activation('relu'))\n",
    "# model.add(Dense(100, kernel_initializer='random_normal')) # second layer\n",
    "# model.add(Activation('relu'))\n",
    "# model.add(Dense(50, kernel_initializer='random_uniform')) # fourth layer\n",
    "# model.add(Activation('tanh'))"
   ]
  },
  {
   "cell_type": "code",
   "execution_count": 34,
   "metadata": {},
   "outputs": [],
   "source": [
    "# model.add(Dense(10, kernel_initializer='he_normal')) # last layer\n",
    "# model.add(Activation('softmax'))"
   ]
  },
  {
   "cell_type": "code",
   "execution_count": 35,
   "metadata": {},
   "outputs": [],
   "source": [
    "# Compile Model\n",
    "# model.compile(optimizer='sgd',\n",
    "#               loss='categorical_crossentropy', \n",
    "#               metrics=['accuracy'])"
   ]
  },
  {
   "cell_type": "code",
   "execution_count": 36,
   "metadata": {},
   "outputs": [],
   "source": [
    "model = load_model(\"best_trained_model.h5\")"
   ]
  },
  {
   "cell_type": "code",
   "execution_count": 37,
   "metadata": {},
   "outputs": [
    {
     "name": "stdout",
     "output_type": "stream",
     "text": [
      "Epoch 1/50\n",
      "122/122 [==============================] - 1s 5ms/step - loss: 0.3776 - accuracy: 0.8708 - val_loss: 0.7855 - val_accuracy: 0.7149\n",
      "Epoch 2/50\n",
      "122/122 [==============================] - 1s 4ms/step - loss: 0.5396 - accuracy: 0.8092 - val_loss: 0.8029 - val_accuracy: 0.7395\n",
      "Epoch 3/50\n",
      "122/122 [==============================] - 1s 6ms/step - loss: 0.4748 - accuracy: 0.8295 - val_loss: 0.6160 - val_accuracy: 0.7938\n",
      "Epoch 4/50\n",
      "122/122 [==============================] - 1s 4ms/step - loss: 0.4101 - accuracy: 0.8564 - val_loss: 0.6053 - val_accuracy: 0.8113\n",
      "Epoch 5/50\n",
      "122/122 [==============================] - 1s 5ms/step - loss: 0.3671 - accuracy: 0.8685 - val_loss: 0.8073 - val_accuracy: 0.7631\n",
      "Epoch 6/50\n",
      "122/122 [==============================] - 1s 5ms/step - loss: 0.4019 - accuracy: 0.8521 - val_loss: 0.5931 - val_accuracy: 0.8072\n",
      "Epoch 7/50\n",
      "122/122 [==============================] - 0s 4ms/step - loss: 0.3660 - accuracy: 0.8631 - val_loss: 0.5717 - val_accuracy: 0.8246\n",
      "Epoch 8/50\n",
      "122/122 [==============================] - 1s 5ms/step - loss: 0.3484 - accuracy: 0.8726 - val_loss: 0.5403 - val_accuracy: 0.7928\n",
      "Epoch 9/50\n",
      "122/122 [==============================] - 1s 5ms/step - loss: 0.3526 - accuracy: 0.8759 - val_loss: 0.5055 - val_accuracy: 0.8410\n",
      "Epoch 10/50\n",
      "122/122 [==============================] - 1s 6ms/step - loss: 0.3177 - accuracy: 0.8836 - val_loss: 0.6184 - val_accuracy: 0.7918\n",
      "Epoch 11/50\n",
      "122/122 [==============================] - 1s 5ms/step - loss: 0.3134 - accuracy: 0.8903 - val_loss: 0.5657 - val_accuracy: 0.8092\n",
      "Epoch 12/50\n",
      "122/122 [==============================] - 1s 5ms/step - loss: 0.3101 - accuracy: 0.8895 - val_loss: 0.5750 - val_accuracy: 0.8185\n",
      "Epoch 13/50\n",
      "122/122 [==============================] - 1s 5ms/step - loss: 0.2967 - accuracy: 0.8913 - val_loss: 0.4597 - val_accuracy: 0.8462\n",
      "Epoch 14/50\n",
      "122/122 [==============================] - 1s 5ms/step - loss: 0.2895 - accuracy: 0.8995 - val_loss: 0.4769 - val_accuracy: 0.8410\n",
      "Epoch 15/50\n",
      "122/122 [==============================] - 1s 4ms/step - loss: 0.2706 - accuracy: 0.9031 - val_loss: 0.4762 - val_accuracy: 0.8431\n",
      "Epoch 16/50\n",
      "122/122 [==============================] - 1s 6ms/step - loss: 0.2659 - accuracy: 0.9054 - val_loss: 0.5011 - val_accuracy: 0.8318\n",
      "Epoch 17/50\n",
      "122/122 [==============================] - 1s 5ms/step - loss: 0.2659 - accuracy: 0.9038 - val_loss: 0.4581 - val_accuracy: 0.8482\n",
      "Epoch 18/50\n",
      "122/122 [==============================] - 1s 5ms/step - loss: 0.2626 - accuracy: 0.9085 - val_loss: 0.5444 - val_accuracy: 0.8297\n",
      "Epoch 19/50\n",
      "122/122 [==============================] - 1s 4ms/step - loss: 0.2657 - accuracy: 0.9041 - val_loss: 0.4870 - val_accuracy: 0.8338\n",
      "Epoch 20/50\n",
      "122/122 [==============================] - 0s 4ms/step - loss: 0.2511 - accuracy: 0.9167 - val_loss: 0.4854 - val_accuracy: 0.8574\n",
      "Epoch 21/50\n",
      "122/122 [==============================] - 1s 4ms/step - loss: 0.2152 - accuracy: 0.9274 - val_loss: 0.5454 - val_accuracy: 0.8369\n",
      "Epoch 22/50\n",
      "122/122 [==============================] - 0s 4ms/step - loss: 0.2214 - accuracy: 0.9205 - val_loss: 0.5719 - val_accuracy: 0.8318\n",
      "Epoch 23/50\n",
      "122/122 [==============================] - 0s 4ms/step - loss: 0.2368 - accuracy: 0.9156 - val_loss: 0.5724 - val_accuracy: 0.8256\n",
      "Epoch 24/50\n",
      "122/122 [==============================] - 0s 4ms/step - loss: 0.2429 - accuracy: 0.9100 - val_loss: 0.4782 - val_accuracy: 0.8492\n",
      "Epoch 25/50\n",
      "122/122 [==============================] - 1s 4ms/step - loss: 0.2270 - accuracy: 0.9203 - val_loss: 0.4954 - val_accuracy: 0.8462\n",
      "Epoch 26/50\n",
      "122/122 [==============================] - 1s 4ms/step - loss: 0.2077 - accuracy: 0.9285 - val_loss: 0.5431 - val_accuracy: 0.8267\n",
      "Epoch 27/50\n",
      "122/122 [==============================] - 0s 4ms/step - loss: 0.2298 - accuracy: 0.9187 - val_loss: 0.6921 - val_accuracy: 0.7856\n",
      "Epoch 28/50\n",
      "122/122 [==============================] - 1s 4ms/step - loss: 0.2226 - accuracy: 0.9210 - val_loss: 0.5210 - val_accuracy: 0.8462\n",
      "Epoch 29/50\n",
      "122/122 [==============================] - 0s 4ms/step - loss: 0.1743 - accuracy: 0.9379 - val_loss: 0.6527 - val_accuracy: 0.8226\n",
      "Epoch 30/50\n",
      "122/122 [==============================] - 0s 4ms/step - loss: 0.1644 - accuracy: 0.9426 - val_loss: 0.4617 - val_accuracy: 0.8585\n",
      "Epoch 31/50\n",
      "122/122 [==============================] - 0s 4ms/step - loss: 0.1869 - accuracy: 0.9349 - val_loss: 0.4686 - val_accuracy: 0.8554\n",
      "Epoch 32/50\n",
      "122/122 [==============================] - 1s 4ms/step - loss: 0.1748 - accuracy: 0.9405 - val_loss: 0.5166 - val_accuracy: 0.8492\n",
      "Epoch 33/50\n",
      "122/122 [==============================] - 1s 4ms/step - loss: 0.1882 - accuracy: 0.9323 - val_loss: 0.4818 - val_accuracy: 0.8503\n",
      "Epoch 34/50\n",
      "122/122 [==============================] - 0s 4ms/step - loss: 0.1754 - accuracy: 0.9392 - val_loss: 0.6376 - val_accuracy: 0.8195\n",
      "Epoch 35/50\n",
      "122/122 [==============================] - 0s 4ms/step - loss: 0.1988 - accuracy: 0.9313 - val_loss: 0.5924 - val_accuracy: 0.8369\n",
      "Epoch 36/50\n",
      "122/122 [==============================] - 0s 4ms/step - loss: 0.1685 - accuracy: 0.9390 - val_loss: 0.5102 - val_accuracy: 0.8462\n",
      "Epoch 37/50\n",
      "122/122 [==============================] - 1s 4ms/step - loss: 0.1615 - accuracy: 0.9444 - val_loss: 0.5506 - val_accuracy: 0.8308\n",
      "Epoch 38/50\n",
      "122/122 [==============================] - 1s 4ms/step - loss: 0.1481 - accuracy: 0.9495 - val_loss: 0.5494 - val_accuracy: 0.8421\n",
      "Epoch 39/50\n",
      "122/122 [==============================] - 1s 4ms/step - loss: 0.1645 - accuracy: 0.9403 - val_loss: 0.5082 - val_accuracy: 0.8472\n",
      "Epoch 40/50\n",
      "122/122 [==============================] - 0s 4ms/step - loss: 0.1596 - accuracy: 0.9410 - val_loss: 0.7132 - val_accuracy: 0.8164\n",
      "Epoch 41/50\n",
      "122/122 [==============================] - 1s 4ms/step - loss: 0.1597 - accuracy: 0.9421 - val_loss: 0.4938 - val_accuracy: 0.8646\n",
      "Epoch 42/50\n",
      "122/122 [==============================] - 0s 4ms/step - loss: 0.1401 - accuracy: 0.9546 - val_loss: 0.4963 - val_accuracy: 0.8564\n",
      "Epoch 43/50\n",
      "122/122 [==============================] - 0s 4ms/step - loss: 0.1648 - accuracy: 0.9426 - val_loss: 0.5834 - val_accuracy: 0.8205\n",
      "Epoch 44/50\n",
      "122/122 [==============================] - 0s 4ms/step - loss: 0.1410 - accuracy: 0.9482 - val_loss: 0.4757 - val_accuracy: 0.8615\n",
      "Epoch 45/50\n",
      "122/122 [==============================] - 0s 4ms/step - loss: 0.1395 - accuracy: 0.9513 - val_loss: 0.4980 - val_accuracy: 0.8482\n",
      "Epoch 46/50\n",
      "122/122 [==============================] - 1s 4ms/step - loss: 0.1282 - accuracy: 0.9551 - val_loss: 0.4955 - val_accuracy: 0.8646\n",
      "Epoch 47/50\n",
      "122/122 [==============================] - 1s 4ms/step - loss: 0.1109 - accuracy: 0.9631 - val_loss: 0.5735 - val_accuracy: 0.8472\n",
      "Epoch 48/50\n",
      "122/122 [==============================] - 0s 4ms/step - loss: 0.1791 - accuracy: 0.9377 - val_loss: 0.5060 - val_accuracy: 0.8503\n",
      "Epoch 49/50\n",
      "122/122 [==============================] - 0s 4ms/step - loss: 0.1272 - accuracy: 0.9528 - val_loss: 0.5339 - val_accuracy: 0.8544\n",
      "Epoch 50/50\n",
      "122/122 [==============================] - 0s 4ms/step - loss: 0.1073 - accuracy: 0.9662 - val_loss: 0.4907 - val_accuracy: 0.8574\n"
     ]
    }
   ],
   "source": [
    "# Train Model\n",
    "history = model.fit(x_train, y_train, \n",
    "                    validation_data = (x_validation, y_validation), \n",
    "                    epochs=50, \n",
    "                    batch_size=32)"
   ]
  },
  {
   "cell_type": "code",
   "execution_count": 38,
   "metadata": {},
   "outputs": [
    {
     "name": "stdout",
     "output_type": "stream",
     "text": [
      "{'loss': [0.3775692582130432, 0.5395737886428833, 0.47475630044937134, 0.4101094901561737, 0.3671312630176544, 0.4019013047218323, 0.36604899168014526, 0.3483787178993225, 0.3525811433792114, 0.3176632225513458, 0.3133959472179413, 0.31007489562034607, 0.29669228196144104, 0.2894948422908783, 0.27061280608177185, 0.2659144699573517, 0.2659450173377991, 0.2626139223575592, 0.2657036781311035, 0.25106051564216614, 0.21523389220237732, 0.2214246541261673, 0.23684684932231903, 0.24294660985469818, 0.22701963782310486, 0.2076580822467804, 0.22978419065475464, 0.22260402143001556, 0.1743091195821762, 0.16444285213947296, 0.18687571585178375, 0.1747513711452484, 0.18821826577186584, 0.17535869777202606, 0.19883441925048828, 0.16851329803466797, 0.16154907643795013, 0.14814002811908722, 0.16449129581451416, 0.15955513715744019, 0.159650519490242, 0.14013510942459106, 0.1648392528295517, 0.14099128544330597, 0.1395009607076645, 0.12823861837387085, 0.11090924590826035, 0.17909054458141327, 0.12715132534503937, 0.10728880017995834], 'accuracy': [0.870769202709198, 0.8092307448387146, 0.8294872045516968, 0.8564102649688721, 0.868461549282074, 0.8520512580871582, 0.86307692527771, 0.8725640773773193, 0.8758974075317383, 0.8835897445678711, 0.890256404876709, 0.8894872069358826, 0.8912820219993591, 0.8994871973991394, 0.9030769467353821, 0.9053846001625061, 0.9038461446762085, 0.9084615111351013, 0.9041025638580322, 0.9166666865348816, 0.9274358749389648, 0.9205127954483032, 0.9156410098075867, 0.9100000262260437, 0.9202564358711243, 0.9284615516662598, 0.9187179207801819, 0.9210256338119507, 0.9379487037658691, 0.9425641298294067, 0.9348717927932739, 0.9405128359794617, 0.9323077201843262, 0.939230740070343, 0.9312820434570312, 0.9389743804931641, 0.9443589448928833, 0.9494871497154236, 0.9402564167976379, 0.9410256147384644, 0.9420512914657593, 0.9546154141426086, 0.9425641298294067, 0.9482051134109497, 0.9512820243835449, 0.9551281929016113, 0.9630769491195679, 0.9376922845840454, 0.9528205394744873, 0.9661538600921631], 'val_loss': [0.7855249047279358, 0.8029382228851318, 0.6159564852714539, 0.60528165102005, 0.8073368072509766, 0.5930923223495483, 0.5716503858566284, 0.5403338074684143, 0.5055453777313232, 0.6183881163597107, 0.5656837821006775, 0.5749743580818176, 0.4597228467464447, 0.4768874943256378, 0.4762153625488281, 0.5010541677474976, 0.4581228196620941, 0.5444099307060242, 0.4869908094406128, 0.4853561222553253, 0.5454362630844116, 0.5719366669654846, 0.5723564624786377, 0.47822004556655884, 0.49535778164863586, 0.5430802702903748, 0.6920706033706665, 0.5210095643997192, 0.6527050733566284, 0.4617394804954529, 0.46864771842956543, 0.5165659189224243, 0.48179367184638977, 0.6376339793205261, 0.592350423336029, 0.5102491974830627, 0.5505619049072266, 0.549360990524292, 0.5081966519355774, 0.713202714920044, 0.4938393831253052, 0.49633124470710754, 0.5833973288536072, 0.475729376077652, 0.49797961115837097, 0.4955359697341919, 0.5735146999359131, 0.5059586763381958, 0.5338620543479919, 0.49070578813552856], 'val_accuracy': [0.7148718237876892, 0.7394871711730957, 0.7938461303710938, 0.8112820386886597, 0.763076901435852, 0.8071795105934143, 0.8246153593063354, 0.7928205132484436, 0.8410256505012512, 0.7917948961257935, 0.8092307448387146, 0.818461537361145, 0.8461538553237915, 0.8410256505012512, 0.8430769443511963, 0.8317948579788208, 0.8482051491737366, 0.8297435641288757, 0.8338461518287659, 0.8574358820915222, 0.8369230628013611, 0.8317948579788208, 0.8256410360336304, 0.8492307662963867, 0.8461538553237915, 0.8266666531562805, 0.7856410145759583, 0.8461538553237915, 0.8225641250610352, 0.8584615588188171, 0.8553845882415771, 0.8492307662963867, 0.8502563834190369, 0.8194871544837952, 0.8369230628013611, 0.8461538553237915, 0.8307692408561707, 0.8420512676239014, 0.8471794724464417, 0.8164102435112, 0.8646153807640076, 0.8564102649688721, 0.8205128312110901, 0.8615384697914124, 0.8482051491737366, 0.8646153807640076, 0.8471794724464417, 0.8502563834190369, 0.854358971118927, 0.8574358820915222]}\n"
     ]
    },
    {
     "data": {
      "text/plain": [
       "<Figure size 432x288 with 0 Axes>"
      ]
     },
     "metadata": {},
     "output_type": "display_data"
    }
   ],
   "source": [
    "# Report Results\n",
    "print(history.history)\n",
    "plt.plot(\n",
    "    range(len(history.history.get(\"accuracy\"))),\n",
    "    history.history.get(\"accuracy\"),\n",
    "    label=\"accuracy\",\n",
    ")\n",
    "plt.plot(\n",
    "    range(len(history.history.get(\"val_accuracy\"))),\n",
    "    history.history.get(\"val_accuracy\"),\n",
    "    label=\"val_accuracy\",\n",
    ")\n",
    "plt.legend(loc=\"lower right\")\n",
    "plt.xlabel(\"epoch\")\n",
    "plt.ylabel(\"accuracy\")\n",
    "plt.savefig(\"accuracy.png\")\n",
    "\n",
    "plt.clf()\n",
    "\n",
    "plt.plot(\n",
    "    range(len(history.history.get(\"loss\"))), history.history.get(\"loss\"), label=\"loss\"\n",
    ")\n",
    "plt.plot(\n",
    "    range(len(history.history.get(\"val_loss\"))),\n",
    "    history.history.get(\"val_loss\"),\n",
    "    label=\"val_loss\",\n",
    ")\n",
    "plt.legend(loc=\"upper right\")\n",
    "plt.xlabel(\"epoch\")\n",
    "plt.ylabel(\"loss\")\n",
    "plt.savefig(\"loss.png\")\n",
    "\n",
    "plt.clf()"
   ]
  },
  {
   "cell_type": "code",
   "execution_count": 39,
   "metadata": {},
   "outputs": [],
   "source": [
    "# Model Prediction\n",
    "prediction = model.predict(x_test)"
   ]
  },
  {
   "cell_type": "code",
   "execution_count": 40,
   "metadata": {},
   "outputs": [
    {
     "name": "stdout",
     "output_type": "stream",
     "text": [
      "\n",
      "\n",
      "[0.5819034576416016, 0.8523076772689819]\n",
      "Accuracy: 85.23%\n",
      "Error: 14.77%\n"
     ]
    }
   ],
   "source": [
    "# Model Evaluation\n",
    "scores = model.evaluate(x_test, y_test, verbose=0)\n",
    "print(\"\\n\")\n",
    "print(scores)\n",
    "accuracy = scores[1] * 100\n",
    "error = 100 - scores[1] * 100\n",
    "print(\"Accuracy: %.2f%%\" % accuracy)\n",
    "print(\"Error: %.2f%%\" % error)\n",
    "\n",
    "    \n"
   ]
  },
  {
   "cell_type": "code",
   "execution_count": 76,
   "metadata": {},
   "outputs": [],
   "source": [
    "projection, actual = [], []\n",
    "\n",
    "# Iterate through predictions, determining which value recieved the highest prediction and\n",
    "#   marking that value in a list (denoting our prediction)\n",
    "for p in prediction:\n",
    "\n",
    "    # Reset max value, index, and max index each iteration\n",
    "    maximum = float(0)\n",
    "    index, max_index = 0, -1\n",
    "\n",
    "    # Iterate through each set of preductions determining the highest predicted value\n",
    "    for n in p:\n",
    "        if float(n) > maximum:\n",
    "            maximum = float(n)\n",
    "            max_index = index\n",
    "        index += 1\n",
    "\n",
    "    # Mark our projection for this set in our list\n",
    "    projection.append(max_index)\n",
    "\n",
    "# Convert test set (actuals) back to standard numerical format\n",
    "for t in y_test:\n",
    "    actual.append(np.argmax(t))\n",
    "\n",
    "\n",
    "# Generate Confusion Matrix\n",
    "y_actual = pd.Series(actual, name=\"Actual\")\n",
    "y_predict = pd.Series(projection, name=\"Predicted\")\n",
    "confusion_matrix = pd.crosstab(y_actual, y_predict)\n",
    "\n",
    "# Generate normalized confusion matrix\n",
    "norm_confusion_matrix = confusion_matrix / confusion_matrix.sum(axis=1)\n",
    "\n",
    "# Generate full confusion matrix with totals\n",
    "full_confusion_matrix = pd.crosstab(\n",
    "    y_actual,\n",
    "    y_predict,\n",
    "    rownames=[\"True Label\"],\n",
    "    colnames=[\"Predicted Label\"],\n",
    "    margins=True,\n",
    ")\n",
    "\n",
    "#print(norm_confusion_matrix)\n",
    "# print(full_confusion_matrix)\n",
    "\n",
    "# cmap = mpl.cm.get_cmap(\"Oranges\")\n",
    "# plt.matshow(confusion_matrix, cmap=cmap)\n",
    "# plt.colorbar()\n",
    "# tick_marks = np.arange(len(confusion_matrix.columns))\n",
    "# plt.xticks(tick_marks, confusion_matrix.columns, rotation=45)\n",
    "# plt.yticks(tick_marks, confusion_matrix.index)\n",
    "\n",
    "# plt.ylabel(confusion_matrix.index.name)\n",
    "# plt.xlabel(confusion_matrix.columns.name)\n",
    "\n",
    "# plt.show()"
   ]
  },
  {
   "cell_type": "code",
   "execution_count": 78,
   "metadata": {},
   "outputs": [
    {
     "data": {
      "text/plain": [
       "Text(33.0, 0.5, 'Actual')"
      ]
     },
     "execution_count": 78,
     "metadata": {},
     "output_type": "execute_result"
    },
    {
     "data": {
      "image/png": "[encoded data removed]",
      "text/plain": [
       "<Figure size 432x288 with 2 Axes>"
      ]
     },
     "metadata": {
      "needs_background": "light"
     },
     "output_type": "display_data"
    }
   ],
   "source": [
    "import matplotlib.pyplot as plt\n",
    "from sklearn.metrics import confusion_matrix\n",
    "cf_matrix = confusion_matrix(y_actual, y_predict)\n",
    "x = sns.heatmap(cf_matrix, vmin=0, vmax=163, annot=True,fmt=\"d\", linewidths=0, cmap=\"GnBu\")\n",
    "x.xaxis.tick_top()\n",
    "x.set_title('Predicted', size=11)\n",
    "x.set_ylabel('Actual', loc=\"center\", size=11)\n",
    "\n"
   ]
  }
 ],
 "metadata": {
  "interpreter": {
   "hash": "aee8b7b246df8f9039afb4144a1f6fd8d2ca17a180786b69acc140d282b71a49"
  },
  "kernelspec": {
   "display_name": "Python 3.9.4 64-bit",
   "name": "python3"
  },
  "language_info": {
   "codemirror_mode": {
    "name": "ipython",
    "version": 3
   },
   "file_extension": ".py",
   "mimetype": "text/x-python",
   "name": "python",
   "nbconvert_exporter": "python",
   "pygments_lexer": "ipython3",
   "version": "3.9.4"
  }
 },
 "nbformat": 4,
 "nbformat_minor": 4
}
